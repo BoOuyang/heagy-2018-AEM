{
 "cells": [
  {
   "cell_type": "markdown",
   "metadata": {},
   "source": [
    "# Open source software for simulations and inversions of airborne electromagnetic data\n",
    "\n",
    "_Lindsey J. Heagy, Seogi Kang, Rowan Cockett and Douglas W. Oldenburg_\n",
    "\n",
    "<img src=\"figures/currents.png\" width=50% align=\"center\">\n",
    "\n",
    "These notebooks were used to generate the figures shown in the abstract [\"Open source software for simulations and inversions of airborne electromagnetic data\"](Heagy_etal_2018_aem_workshop.pdf) and in the [presentation slides](https://speakerdeck.com/lheagy/open-source-software-for-simulations-and-inversions-of-airborne-electromagnetic-data). We perform a 3D forward simulation of airborne time-domain electromagnetic data over a vertical plate, examine the fields and fluxes, and then perform 3 inversions to recover the subsurface conductivity: (1) a stiched 1D inversion, (2) a 2D voxel inversion and (3) a 2D parametric inversion"
   ]
  },
  {
   "cell_type": "markdown",
   "metadata": {},
   "source": [
    "## Contents\n",
    "\n",
    "There are 4 notebooks in this repository:\n",
    "\n",
    "- [TEM_VerticalConductor_2D_forward.ipynb](notebooks/TEM_VerticalConductor_2D_forward.ipynb)\n",
    "\n",
    "    - runs a forward simulation of an airborne electromagnetic simulation over a conductive plate. This notebook was used to generate figures 1-4 in the abstract\n",
    "\n",
    "\n",
    "- [TEM_VerticalConductor_1D_stitched_inversion.ipynb](notebooks/TEM_VerticalConductor_1D_stitched_inversion.ipynb)    \n",
    "    - Using the forward simulated data from the previous notebook, we run 1D inversions over the plate (Figure 5 in the abstract)\n",
    "    \n",
    "\n",
    "- [TEM_VerticalConductor_2D_inversion_load.ipynb](notebooks/TEM_VerticalConductor_2D_inversion_load.ipynb)\n",
    "\n",
    "    - This notebook loads the 2D inversion results over the plate (Figure 6 in the abstract). The 2D inversion was run using the script [2dinv_smooth.py](notebooks/2d_inv_smooth/2dinv_smooth.py).\n",
    "    \n",
    "\n",
    "- [TEM_VerticalConductor_parametric_inversion_load.ipynb](notebooks/TEM_VerticalConductor_parametric_inversion_load.ipynb)\n",
    "    - This notebook loads the 2D parametric inversion inversion results (Figure 7 in the abstract). The 2D parametric inversion was run using the script [2dinv_parametric.py](notebooks/2d_inv_parametric/2d_inv_parametric.py).\n"
   ]
  },
  {
   "cell_type": "markdown",
   "metadata": {},
   "source": [
    "In addition, there are two notebooks that were used for demo's in the workshop [3D EM Modelling and Inversion with Open Source Resources](https://courses.geosci.xyz/aem2018). These are:\n",
    "\n",
    "- [TEM_VerticalConductor_2D_forward.ipynb](demo_notebooks/TEM_VerticalConductor_2D_forward.ipynb)\n",
    "    - solved the 3D forward simulation for an airborne EM line over a plate (same analysis as the first notebook above)\n",
    "\n",
    "- [TDEM_1D_inversion.ipynb](demo_notebooks/TDEM_1D_inversion.ipynb)\n",
    "    - walk-through of a 1D inversion of a single airborne time-domain EM sounding using [SimPEG](http://simpeg.xyz)"
   ]
  },
  {
   "cell_type": "markdown",
   "metadata": {},
   "source": [
    "## Usage\n",
    "\n",
    "Dependencies are specified in requirements.txt\n",
    "\n",
    "```\n",
    "pip install -r requirements.txt\n",
    "```\n",
    "\n",
    "Please [make an issue](https://github.com/simpeg-research/heagy-2018-AEM/issues/new) if you encounter any problems while trying to run the notebooks."
   ]
  },
  {
   "cell_type": "markdown",
   "metadata": {},
   "source": [
    "## Citation\n",
    "\n",
    "Heagy, L. J., Kang, S., Cockett, R., & Oldenburg, D. W. (2018). Open source software for simulations and inversions of airborne electromagnetic data. In 7th International Workshop on Airborne Electromagnetics (pp. 1–5).\n",
    "\n",
    "** BibTex**\n",
    "\n",
    "```\n",
    "@inproceedings{Heagy2018,\n",
    "author = {Heagy, Lindsey J and Kang, Seogi and Cockett, Rowan and Oldenburg, Douglas W.},\n",
    "booktitle = {7th International Workshop on Airborne Electromagnetics},\n",
    "keywords = {finite volume,frequency domain,inversion,open source software,time domain},\n",
    "pages = {1--5},\n",
    "title = {{Open source software for simulations and inversions of airborne electromagnetic data}},\n",
    "year = {2018}\n",
    "}\n",
    "\n",
    "```"
   ]
  },
  {
   "cell_type": "code",
   "execution_count": null,
   "metadata": {},
   "outputs": [],
   "source": []
  }
 ],
 "metadata": {
  "kernelspec": {
   "display_name": "Python 3",
   "language": "python",
   "name": "python3"
  },
  "language_info": {
   "codemirror_mode": {
    "name": "ipython",
    "version": 3
   },
   "file_extension": ".py",
   "mimetype": "text/x-python",
   "name": "python",
   "nbconvert_exporter": "python",
   "pygments_lexer": "ipython3",
   "version": "3.6.4"
  }
 },
 "nbformat": 4,
 "nbformat_minor": 2
}
