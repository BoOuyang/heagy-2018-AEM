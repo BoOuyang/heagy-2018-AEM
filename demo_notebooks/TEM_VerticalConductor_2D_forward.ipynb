{
 "cells": [
  {
   "cell_type": "markdown",
   "metadata": {},
   "source": [
    "# Forward Simulation\n",
    "\n",
    "In this notebook, we compute a single line of AEM data over a conductive plate in a resistive background. We plot the currents and magnetic fields in the subsurface. \n",
    "\n",
    "This notebook generates Figures 1-4 in: \n",
    "\n",
    "Heagy, L., Kang, S., Cockett, R., and Oldenburg, D., 2018, _Open source software for simulations and inversions of airborne electromagnetic data_, AEM 2018 International Workshop on Airborne Electromagnetics "
   ]
  },
  {
   "cell_type": "code",
   "execution_count": 1,
   "metadata": {},
   "outputs": [],
   "source": [
    "from SimPEG import EM, Mesh, Maps, Utils\n",
    "import numpy as np\n",
    "from scipy.constants import mu_0\n",
    "from scipy.interpolate import griddata\n",
    "import matplotlib.pyplot as plt\n",
    "from matplotlib.colors import LogNorm\n",
    "from matplotlib import animation, collections\n",
    "from pymatsolver import Pardiso\n",
    "\n",
    "import ipywidgets \n",
    "from IPython.display import HTML\n",
    "\n",
    "%matplotlib inline"
   ]
  },
  {
   "cell_type": "code",
   "execution_count": 2,
   "metadata": {},
   "outputs": [],
   "source": [
    "from matplotlib import rcParams\n",
    "rcParams['font.size'] = 16"
   ]
  },
  {
   "cell_type": "markdown",
   "metadata": {},
   "source": [
    "## Create a Tensor Mesh\n",
    "\n",
    "Here, we build a 3D Tensor mesh to run the forward simulation on. "
   ]
  },
  {
   "cell_type": "code",
   "execution_count": 3,
   "metadata": {},
   "outputs": [],
   "source": [
    "cs, ncx, ncy, ncz, npad = 50., 20, 1, 20, 10\n",
    "pad_rate = 1.3\n",
    "hx = [(cs,npad,-pad_rate), (cs,ncx), (cs,npad,pad_rate)]\n",
    "hy = [(cs,npad,-pad_rate), (cs,ncy), (cs,npad,pad_rate)]\n",
    "hz = [(cs,npad,-pad_rate), (cs,ncz), (cs,npad,pad_rate)]\n",
    "\n",
    "mesh = Mesh.TensorMesh([hx,hy,hz], 'CCC')"
   ]
  },
  {
   "cell_type": "code",
   "execution_count": 4,
   "metadata": {},
   "outputs": [
    {
     "name": "stdout",
     "output_type": "stream",
     "text": [
      "  ---- 3-D TensorMesh ----  \n",
      "   x0: -3270.27\n",
      "   y0: -2795.27\n",
      "   z0: -3270.27\n",
      "  nCx: 40\n",
      "  nCy: 21\n",
      "  nCz: 40\n",
      "   hx: 689.29,  530.22,  407.87,  313.74,  241.34,  185.65,  142.81,  109.85,  84.50,  65.00,  20*50.00,  65.00,  84.50,  109.85,  142.81,  185.65,  241.34,  313.74,  407.87,  530.22,  689.29,\n",
      "   hy: 689.29,  530.22,  407.87,  313.74,  241.34,  185.65,  142.81,  109.85,  84.50,  65.00,  50.00,  65.00,  84.50,  109.85,  142.81,  185.65,  241.34,  313.74,  407.87,  530.22,  689.29,\n",
      "   hz: 689.29,  530.22,  407.87,  313.74,  241.34,  185.65,  142.81,  109.85,  84.50,  65.00,  20*50.00,  65.00,  84.50,  109.85,  142.81,  185.65,  241.34,  313.74,  407.87,  530.22,  689.29,\n"
     ]
    }
   ],
   "source": [
    "print(mesh)"
   ]
  },
  {
   "cell_type": "code",
   "execution_count": 5,
   "metadata": {},
   "outputs": [
    {
     "name": "stdout",
     "output_type": "stream",
     "text": [
      "diffusion distance: 1.91e+03 m\n",
      "mesh extent : 2.77e+03 m\n"
     ]
    }
   ],
   "source": [
    "# print diffusion distance and make sure mesh padding goes beyond that\n",
    "print(\"diffusion distance: {:1.2e} m\".format(1207*np.sqrt(1e3*2.5*1e-3)))\n",
    "print(\"mesh extent : {:1.2e} m\".format(mesh.hx[-10:].sum()))"
   ]
  },
  {
   "cell_type": "markdown",
   "metadata": {},
   "source": [
    "## Build a model"
   ]
  },
  {
   "cell_type": "code",
   "execution_count": 6,
   "metadata": {},
   "outputs": [],
   "source": [
    "# model parameters\n",
    "sig_air = 1e-8\n",
    "sig_half = 1e-3\n",
    "sig_plate = 1e-1"
   ]
  },
  {
   "cell_type": "code",
   "execution_count": 7,
   "metadata": {},
   "outputs": [],
   "source": [
    "# put the omdel on the mesh \n",
    "blk1 = Utils.ModelBuilder.getIndicesBlock(\n",
    "    np.r_[-49.5, 500, -50],\n",
    "    np.r_[50, -500, -450], \n",
    "    mesh.gridCC\n",
    ")\n",
    "\n",
    "sigma = np.ones(mesh.nC)*sig_air\n",
    "sigma[mesh.gridCC[:,2]<0.] = sig_half\n",
    "sigma_half = sigma.copy()\n",
    "sigma[blk1] = sig_plate"
   ]
  },
  {
   "cell_type": "code",
   "execution_count": 8,
   "metadata": {},
   "outputs": [],
   "source": [
    "xref = 0\n",
    "zref = -100.\n",
    "yref = 0.\n",
    "\n",
    "xlim = [-700., 700.]\n",
    "ylim = [-700., 700.]\n",
    "zlim = [-700., 0.]\n",
    "\n",
    "indx = int(np.argmin(abs(mesh.vectorCCx-xref)))\n",
    "indy = int(np.argmin(abs(mesh.vectorCCy-yref)))\n",
    "indz = int(np.argmin(abs(mesh.vectorCCz-zref)))"
   ]
  },
  {
   "cell_type": "code",
   "execution_count": 9,
   "metadata": {},
   "outputs": [
    {
     "data": {
      "image/png": "[encoded data removed]",
      "text/plain": [
       "<matplotlib.figure.Figure at 0x1126ebf28>"
      ]
     },
     "metadata": {},
     "output_type": "display_data"
    }
   ],
   "source": [
    "fig, ax = plt.subplots(1,2, figsize = (12,6))\n",
    "\n",
    "clim = [1e-3, 1e-1]\n",
    "\n",
    "dat1 = mesh.plotSlice(sigma, grid=True, ax=ax[0], ind=indz, pcolorOpts={'norm':LogNorm()}, clim=clim)\n",
    "dat2 = mesh.plotSlice(sigma, grid=True, ax=ax[1], ind=indx, normal='X', pcolorOpts={'norm':LogNorm()}, clim=clim)\n",
    "\n",
    "cb = plt.colorbar(dat2[0], orientation=\"horizontal\", ax = ax[1])\n",
    "\n",
    "ax[0].set_xlim(xlim)\n",
    "ax[0].set_ylim(ylim)\n",
    "ax[1].set_xlim(xlim)\n",
    "ax[1].set_ylim(ylim[0], 0.)\n",
    "\n",
    "plt.tight_layout()\n",
    "\n",
    "ax[0].set_aspect(1)\n",
    "ax[1].set_aspect(1)\n",
    "\n",
    "ax[0].set_title(\"Conductivity at Z={:1.0f}m\".format(mesh.vectorCCz[indz]))\n",
    "ax[1].set_title(\"X={:1.0f}m\".format(mesh.vectorCCx[indx]))\n",
    "\n",
    "cb.set_label(\"$\\sigma$ (S/m)\")"
   ]
  },
  {
   "cell_type": "code",
   "execution_count": 10,
   "metadata": {},
   "outputs": [
    {
     "data": {
      "image/png": "[encoded data removed]",
      "text/plain": [
       "<matplotlib.figure.Figure at 0x112880128>"
      ]
     },
     "metadata": {},
     "output_type": "display_data"
    }
   ],
   "source": [
    "fig, ax = plt.subplots(1,2, figsize = (12, 6))\n",
    "\n",
    "clim = [1e-3, 1e-1]\n",
    "\n",
    "dat1 = mesh.plotSlice(sigma, grid=True, ax=ax[0], ind=indz, pcolorOpts={'norm':LogNorm()}, clim=clim)\n",
    "dat2 = mesh.plotSlice(sigma, grid=True, ax=ax[1], ind=indy, normal='Y', pcolorOpts={'norm':LogNorm()}, clim=clim)\n",
    "\n",
    "cb = plt.colorbar(dat2[0], orientation=\"horizontal\", ax = ax[1])\n",
    "\n",
    "ax[0].set_xlim(xlim)\n",
    "ax[0].set_ylim(ylim)\n",
    "ax[1].set_xlim(xlim)\n",
    "ax[1].set_ylim(zlim)\n",
    "\n",
    "plt.tight_layout()\n",
    "\n",
    "ax[0].set_aspect(1)\n",
    "ax[1].set_aspect(1)\n",
    "\n",
    "ax[0].set_title(\"Conductivity at Z={:1.0f} m\".format(mesh.vectorCCz[indz]))\n",
    "ax[1].set_title(\"X= {:1.0f}m\".format(mesh.vectorCCx[indx]))\n",
    "\n",
    "cb.set_label(\"$\\sigma$ (S/m)\")"
   ]
  },
  {
   "cell_type": "markdown",
   "metadata": {},
   "source": [
    "## Assemble the survey"
   ]
  },
  {
   "cell_type": "code",
   "execution_count": 11,
   "metadata": {},
   "outputs": [],
   "source": [
    "x = mesh.vectorCCx[np.logical_and(mesh.vectorCCx>-450, mesh.vectorCCx<450)]\n",
    "# np.save(\"x\", x)"
   ]
  },
  {
   "cell_type": "code",
   "execution_count": 12,
   "metadata": {},
   "outputs": [
    {
     "name": "stdout",
     "output_type": "stream",
     "text": [
      "CPU times: user 17.7 ms, sys: 672 µs, total: 18.4 ms\n",
      "Wall time: 57.9 ms\n"
     ]
    }
   ],
   "source": [
    "%%time\n",
    "\n",
    "# assemble the sources and receivers\n",
    "time = np.logspace(np.log10(5e-5), np.log10(2.5e-3), 21)\n",
    "srcList = []\n",
    "\n",
    "for xloc in x:\n",
    "    location = np.array([[xloc, 0., 30.]])\n",
    "    rx_z = EM.TDEM.Rx.Point_dbdt(location, time, 'z')\n",
    "    rx_x = EM.TDEM.Rx.Point_dbdt(location, time, 'x')\n",
    "    src = EM.TDEM.Src.CircularLoop([rx_z, rx_x], orientation='z', loc=location)\n",
    "    srcList.append(src)"
   ]
  },
  {
   "cell_type": "markdown",
   "metadata": {},
   "source": [
    "## Set up the forward simulation"
   ]
  },
  {
   "cell_type": "code",
   "execution_count": 13,
   "metadata": {},
   "outputs": [],
   "source": [
    "timesteps = [(1e-05, 15), (5e-5, 10), (2e-4, 10)]"
   ]
  },
  {
   "cell_type": "code",
   "execution_count": null,
   "metadata": {},
   "outputs": [],
   "source": [
    "prb = EM.TDEM.Problem3D_b(mesh, Solver=Pardiso, verbose=True, timeSteps=timesteps, sigmaMap=Maps.IdentityMap(mesh))\n",
    "survey = EM.TDEM.Survey(srcList)\n",
    "survey.pair(prb)"
   ]
  },
  {
   "cell_type": "markdown",
   "metadata": {},
   "source": [
    "## Solve the forward simulation"
   ]
  },
  {
   "cell_type": "code",
   "execution_count": null,
   "metadata": {
    "scrolled": false
   },
   "outputs": [
    {
     "name": "stdout",
     "output_type": "stream",
     "text": [
      "Calculating Initial fields\n",
      "**************************************************\n",
      "Calculating fields(m)\n",
      "**************************************************\n",
      "Factoring...   (dt = 1.000000e-05)\n",
      "Done\n",
      "    Solving...   (tInd = 1)\n",
      "    Done...\n",
      "    Solving...   (tInd = 2)\n",
      "    Done...\n",
      "    Solving...   (tInd = 3)\n",
      "    Done...\n",
      "    Solving...   (tInd = 4)\n",
      "    Done...\n",
      "    Solving...   (tInd = 5)\n",
      "    Done...\n",
      "    Solving...   (tInd = 6)\n",
      "    Done...\n",
      "    Solving...   (tInd = 7)\n",
      "    Done...\n",
      "    Solving...   (tInd = 8)\n",
      "    Done...\n",
      "    Solving...   (tInd = 9)\n",
      "    Done...\n",
      "    Solving...   (tInd = 10)\n",
      "    Done...\n",
      "    Solving...   (tInd = 11)\n",
      "    Done...\n",
      "    Solving...   (tInd = 12)\n",
      "    Done...\n",
      "    Solving...   (tInd = 13)\n",
      "    Done...\n",
      "    Solving...   (tInd = 14)\n",
      "    Done...\n",
      "    Solving...   (tInd = 15)\n",
      "    Done...\n",
      "Factoring...   (dt = 5.000000e-05)\n",
      "Done\n",
      "    Solving...   (tInd = 16)\n",
      "    Done...\n",
      "    Solving...   (tInd = 17)\n"
     ]
    }
   ],
   "source": [
    "%%time\n",
    "fields = prb.fields(sigma)"
   ]
  },
  {
   "cell_type": "markdown",
   "metadata": {},
   "source": [
    "## Compute predicted data"
   ]
  },
  {
   "cell_type": "code",
   "execution_count": null,
   "metadata": {},
   "outputs": [],
   "source": [
    "dpred = survey.dpred(sigma, f=fields)\n",
    "DPRED = dpred.reshape((survey.nSrc, 2, rx_z.times.size))\n",
    "\n",
    "# uncomment to add noise\n",
    "# noise = abs(dpred)*0.05 * np.random.randn(dpred.size) + 1e-14\n",
    "# dobs = dpred + noise\n",
    "# DOBS = dobs.reshape((survey.nSrc, 2, rx_z.times.size))"
   ]
  },
  {
   "cell_type": "code",
   "execution_count": null,
   "metadata": {},
   "outputs": [],
   "source": [
    "# # uncomment to save\n",
    "# np.save(\"dobs\", dobs)\n",
    "# np.save(\"dpred\", dpred)"
   ]
  },
  {
   "cell_type": "code",
   "execution_count": null,
   "metadata": {},
   "outputs": [],
   "source": [
    "# 0, 1e-4, 4e-4\n",
    "rx_z.times[[0, 4, 12]]"
   ]
  },
  {
   "cell_type": "code",
   "execution_count": null,
   "metadata": {},
   "outputs": [],
   "source": [
    "fig = plt.figure(figsize=(9, 3.5), dpi=350)\n",
    "for itime in range(rx_z.times.size):\n",
    "    plt.semilogy(x, -DPRED[:,0,itime], 'k.-', lw=1)\n",
    "# plt.plot(srcList[5].loc[0][0]*np.ones(3), -DPRED[5,0,[0, 4, 12]] , 's', color=\"C3\")\n",
    "plt.xlabel(\"x (m)\")\n",
    "plt.ylabel(\"Voltage (V/Am$^2$)\")\n",
    "plt.grid(which=\"both\", alpha=0.2)"
   ]
  },
  {
   "cell_type": "markdown",
   "metadata": {},
   "source": [
    "# Plot the fields"
   ]
  },
  {
   "cell_type": "code",
   "execution_count": null,
   "metadata": {},
   "outputs": [],
   "source": [
    "def plot_currents(itime, iSrc, clim=None, ax=None, showcb=True, showit=True):\n",
    "    if ax is None: \n",
    "        fig, ax = plt.subplots(1,2, figsize = (16,8))\n",
    "    \n",
    "    location  = srcList[iSrc].loc\n",
    "    S = np.kron(np.ones(3), sigma)\n",
    "    j = Utils.sdiag(S) * mesh.aveE2CCV * fields[srcList[iSrc], 'e', itime]\n",
    "    \n",
    "    dat1 = mesh.plotSlice(\n",
    "        j, normal='Z', ind=int(indz), vType='CCv', view='vec', ax=ax[0], \n",
    "        range_x=xlim, range_y=ylim, sample_grid = [cs, cs],\n",
    "        pcolorOpts={'norm':LogNorm(), 'cmap':'magma'},\n",
    "        streamOpts={'arrowsize':2, 'color':'k'},\n",
    "        clim=clim, stream_threshold = 1e-12 if clim is not None else None\n",
    "    )\n",
    "    dat2 = mesh.plotSlice(\n",
    "        j, normal='X', ind=int(indx), vType='CCv', view='vec', ax=ax[1], \n",
    "        range_x=xlim, range_y=zlim,\n",
    "        pcolorOpts={'norm':LogNorm(), 'cmap':'magma'}, \n",
    "        streamOpts={'arrowsize':2, 'color':'k'},\n",
    "        clim=clim, stream_threshold = 1e-12 if clim is not None else None\n",
    "    )\n",
    "    ax[0].plot(location[0], location[1], 'go', ms=20)\n",
    "    ax[0].text(-600, 500, \"Time: {:1.2f} ms\".format(prb.times[itime]*1e3), color='w', fontsize=20)\n",
    "    \n",
    "    if showcb is True: \n",
    "        cb = plt.colorbar(dat1[0], orientation=\"horizontal\", ax = ax[1])\n",
    "        cb.set_label(\"Current density (A/m$^2$)\")\n",
    "    \n",
    "    ax[0].set_aspect(1)\n",
    "    ax[1].set_aspect(1)\n",
    "    ax[0].set_title(\"Current density at Z={:1.0f}m\".format(mesh.vectorCCz[indz]))\n",
    "    ax[1].set_title(\"X={:1.0f}m\".format(mesh.vectorCCx[indx]))\n",
    "    \n",
    "    \n",
    "    \n",
    "    if showit: \n",
    "        plt.show()\n",
    "    \n",
    "    return [d for d in dat1 + dat2]"
   ]
  },
  {
   "cell_type": "markdown",
   "metadata": {},
   "source": [
    "## View the current density through time"
   ]
  },
  {
   "cell_type": "code",
   "execution_count": null,
   "metadata": {},
   "outputs": [],
   "source": [
    "ipywidgets.interact(\n",
    "    plot_currents,\n",
    "    itime = ipywidgets.IntSlider(min=1, max=len(prb.times), value=1),\n",
    "    iSrc = ipywidgets.IntSlider(min=0, max=len(srcList), value=5),\n",
    "    clim = ipywidgets.fixed([3e-13, 2e-9]),\n",
    "    ax=ipywidgets.fixed(None), \n",
    "    showit=ipywidgets.fixed(True),\n",
    "    showcb=ipywidgets.fixed(True)\n",
    ")\n"
   ]
  },
  {
   "cell_type": "code",
   "execution_count": null,
   "metadata": {},
   "outputs": [],
   "source": [
    "def plot_magnetic_flux(itime, iSrc, clim=None, ax=None, showcb=True, showit=True):\n",
    "    if ax is None: \n",
    "        fig, ax = plt.subplots(1,1, figsize = (8,8))\n",
    "    \n",
    "    location  = srcList[iSrc].loc\n",
    "    b = mesh.aveF2CCV * fields[survey.srcList[iSrc], 'b', itime]\n",
    "    \n",
    "    dat1 = mesh.plotSlice(\n",
    "        b, normal='Y', ind=int(indy), vType='CCv', view='vec', \n",
    "        range_x=xlim, range_y=xlim,\n",
    "        ax=ax, pcolorOpts={'norm':LogNorm(), 'cmap':'magma'},\n",
    "        streamOpts={'arrowsize':2, 'color':'k'},\n",
    "        clim=clim, stream_threshold = clim[0] if clim is not None else None\n",
    "    )\n",
    "\n",
    "    ax.plot(location[0], location[2], 'go', ms=15)\n",
    "    \n",
    "    ax.text(-600, 500, \"Time: {:1.2f} ms\".format(prb.times[itime]*1e3), color='w', fontsize=20)\n",
    "    \n",
    "    if showcb: \n",
    "        cb = plt.colorbar(dat1[0], ax = ax)\n",
    "        cb.set_label(\"Magnetic Flux Density (T)\")\n",
    "    ax.set_aspect(1)\n",
    "    ax.set_title(\"Magnetic Flux Density at Y={:1.0f}m\".format(mesh.vectorCCy[indy]))\n",
    "    \n",
    "    if showit: \n",
    "        plt.show()\n",
    "    \n",
    "    return [d for d in dat1 + dat2]"
   ]
  },
  {
   "cell_type": "code",
   "execution_count": null,
   "metadata": {},
   "outputs": [],
   "source": [
    "ipywidgets.interact(\n",
    "    plot_magnetic_flux,\n",
    "    itime = ipywidgets.IntSlider(min=1, max=len(prb.times), value=1),\n",
    "    iSrc = ipywidgets.IntSlider(min=0, max=len(srcList), value=5),\n",
    "    clim = ipywidgets.fixed([1e-17, 3e-14]),\n",
    "    ax=ipywidgets.fixed(None), \n",
    "    showit=ipywidgets.fixed(True),\n",
    "    showcb=ipywidgets.fixed(True)\n",
    ")\n"
   ]
  },
  {
   "cell_type": "markdown",
   "metadata": {},
   "source": [
    "## Print Figures"
   ]
  },
  {
   "cell_type": "code",
   "execution_count": null,
   "metadata": {},
   "outputs": [],
   "source": [
    "fig, axes = plt.subplots(3,2, figsize = (12,6*3))\n",
    " \n",
    "iSrc = 5\n",
    "clim = [3e-13, 2e-9]\n",
    "\n",
    "for i, itime in enumerate([1, 10, 22]):\n",
    "    \n",
    "    ax = axes[i, :]\n",
    "    location  = srcList[iSrc].loc\n",
    "    \n",
    "    S = np.kron(np.ones(3), sigma)\n",
    "    j = Utils.sdiag(S) * mesh.aveE2CCV * fields[srcList[iSrc], 'e', itime]\n",
    "\n",
    "    dat1 = mesh.plotSlice(\n",
    "        j, normal='Z', ind=int(indz), vType='CCv', view='vec', ax=ax[0], \n",
    "        range_x=xlim, range_y=ylim, \n",
    "        pcolorOpts={'norm':LogNorm(), 'cmap':'magma'},\n",
    "        streamOpts={'arrowsize':2, 'color':'k'},\n",
    "        clim=clim, stream_threshold = 1e-12 if clim is not None else None\n",
    "    )\n",
    "    dat2 = mesh.plotSlice(\n",
    "        j, normal='X', ind=int(indx), vType='CCv', view='vec', ax=ax[1], \n",
    "        range_x=xlim, range_y=zlim,\n",
    "        pcolorOpts={'norm':LogNorm(), 'cmap':'magma'}, \n",
    "        streamOpts={'arrowsize':2, 'color':'k'},\n",
    "        clim=clim, stream_threshold = 1e-12 if clim is not None else None\n",
    "    )\n",
    "    \n",
    "    ax[0].plot(location[0,0], location[0,1], 'go', ms=20)\n",
    "    ax[0].text(-600, 500, \"Time: {:1.2f} ms\".format(prb.times[itime]*1e3), color='w', fontsize=20)\n",
    "    cb = plt.colorbar(dat1[0], orientation=\"horizontal\", ax = ax[1])\n",
    "    cb.set_label(\"Current density (A/m$^2$)\")\n",
    "    ax[0].set_aspect(1)\n",
    "    ax[1].set_aspect(1)\n",
    "    \n",
    "    \n",
    "    if itime == 1: \n",
    "        ax[0].set_title(\"Current density at Z={:1.0f}m\".format(mesh.vectorCCz[indz]))\n",
    "        ax[1].set_title(\"X={:1.0f}m\".format(mesh.vectorCCx[indx]))\n",
    "    else:\n",
    "        ax[0].set_title(\"\")\n",
    "        ax[1].set_title(\"\")\n",
    "\n",
    "plt.tight_layout()\n",
    "plt.show()"
   ]
  },
  {
   "cell_type": "code",
   "execution_count": null,
   "metadata": {},
   "outputs": [],
   "source": [
    "fig, ax = plt.subplots(1,3, figsize = (15, 5))\n",
    "\n",
    "fig.subplots_adjust(bottom=0.7)\n",
    "\n",
    "iSrc = 5\n",
    "clim = [1e-17, 3e-14]\n",
    "\n",
    "for a, itime, title in zip(ax, [1, 10, 22], [\"a\", \"b\", \"c\"]):\n",
    "    location  = srcList[iSrc].loc\n",
    "    \n",
    "    b = mesh.aveF2CCV * fields[survey.srcList[iSrc], 'b', itime]\n",
    "    \n",
    "    dat1 = mesh.plotSlice(\n",
    "        b, normal='Y', ind=int(indy), vType='CCv', view='vec', \n",
    "        range_x=xlim, range_y=xlim,\n",
    "        ax=a, pcolorOpts={'norm':LogNorm(), 'cmap':'magma'},\n",
    "        streamOpts={'arrowsize':2, 'color':'k'},\n",
    "        clim=clim, stream_threshold = clim[0] if clim is not None else None\n",
    "    )\n",
    "        \n",
    "    if itime > 1:\n",
    "        a.get_yaxis().set_visible(False)\n",
    "\n",
    "    a.plot(location[0], location[2], 'go', ms=15)\n",
    "    \n",
    "    a.text(-600, 500, \"Time: {:1.2f} ms\".format(prb.times[itime]*1e3), color='w', fontsize=20)\n",
    "    a.set_aspect(1)\n",
    "    a.set_title(\"({})\".format(title))\n",
    "#     a.set_title((\"Magnetic Flux Density at Y=%.0fm\")%(mesh_core.vectorCCy[indy]))\n",
    "    \n",
    "\n",
    "plt.tight_layout()\n",
    "\n",
    "\n",
    "cbar_ax = fig.add_axes([0.2, -0.05, 0.6, 0.05])\n",
    "cb = fig.colorbar(dat1[0], cbar_ax, orientation='horizontal')\n",
    "cb.set_label('Magnetic Flux Density (T)')"
   ]
  },
  {
   "cell_type": "markdown",
   "metadata": {},
   "source": [
    "## Movie of the currents and the magnetic flux\n",
    "\n",
    "Movies shown in the presentation. It is slow to build these, so by default we won't. Change `make_movie` to `True` to build the movies"
   ]
  },
  {
   "cell_type": "code",
   "execution_count": null,
   "metadata": {},
   "outputs": [],
   "source": [
    "make_movie = True\n",
    "save_mp4 = True"
   ]
  },
  {
   "cell_type": "code",
   "execution_count": null,
   "metadata": {},
   "outputs": [],
   "source": [
    "iSrc = 5\n",
    "\n",
    "if make_movie: \n",
    "\n",
    "    fig, ax = plt.subplots(1, 2, figsize = (16,8), dpi=290)\n",
    "    out = plot_currents(itime=1, iSrc=iSrc, clim=[3e-13, 2e-9], ax=ax, showcb=True, showit=False)\n",
    "\n",
    "    def init():\n",
    "        [o.set_array(None) for o in out if isinstance(o, collections.QuadMesh)]\n",
    "        return out\n",
    "\n",
    "    def update(t):\n",
    "        for a in ax:\n",
    "            a.patches = []\n",
    "            a.lines = []\n",
    "            a.clear()\n",
    "        return plot_currents(itime=t, iSrc=iSrc, clim=[3e-13, 2e-9], ax=ax, showcb=False, showit=False)\n",
    "\n",
    "    ani = animation.FuncAnimation(fig, update, np.arange(1, len(prb.times)), init_func=init, blit=False)\n",
    "\n",
    "    \n",
    "    if save_mp4: \n",
    "        ani.save(\n",
    "            \"currents1.mp4\", writer=\"ffmpeg\", fps=3, dpi=250, bitrate=0, \n",
    "            metadata={\"title\":\"TDEM currents in a plate\", \"artist\":\"Lindsey Heagy\"}\n",
    "        )"
   ]
  },
  {
   "cell_type": "code",
   "execution_count": null,
   "metadata": {},
   "outputs": [],
   "source": [
    "anihtml = ani.to_jshtml(fps=3)\n",
    "HTML(anihtml)"
   ]
  },
  {
   "cell_type": "code",
   "execution_count": null,
   "metadata": {},
   "outputs": [],
   "source": [
    "iSrc = 5\n",
    "clim=[1e-17, 3e-14]\n",
    "\n",
    "\n",
    "if make_movie: \n",
    "\n",
    "    fig, ax = plt.subplots(1, 1, figsize = (8, 8), dpi=290)\n",
    "\n",
    "    out = plot_magnetic_flux(itime=1, iSrc=iSrc, clim=clim, ax=ax, showcb=True, showit=False)\n",
    "\n",
    "    def init():\n",
    "        [o.set_array(None) for o in out if isinstance(o, collections.QuadMesh)]\n",
    "        return out\n",
    "\n",
    "    def update(t):\n",
    "        ax.patches = []\n",
    "        ax.lines = []\n",
    "        ax.clear()\n",
    "        return plot_magnetic_flux(itime=t, iSrc=iSrc, clim=clim, ax=ax, showcb=False, showit=False)\n",
    "\n",
    "    ani = animation.FuncAnimation(fig, update, np.arange(1, len(prb.times)), init_func=init, blit=False)\n",
    "    \n",
    "    if save_mp4: \n",
    "        ani.save(\n",
    "            \"magnetic_flux.mp4\", writer=\"ffmpeg\", fps=3, dpi=250, bitrate=0, \n",
    "            metadata={\"title\":\"TDEM magnetic flux in a plate\", \"artist\":\"Lindsey Heagy\"}\n",
    "        )"
   ]
  },
  {
   "cell_type": "code",
   "execution_count": null,
   "metadata": {},
   "outputs": [],
   "source": [
    "anihtml = ani.to_jshtml(fps=3)\n",
    "HTML(anihtml)"
   ]
  },
  {
   "cell_type": "markdown",
   "metadata": {},
   "source": [
    "## Presentation figures"
   ]
  },
  {
   "cell_type": "code",
   "execution_count": null,
   "metadata": {},
   "outputs": [],
   "source": [
    "fig, axes = plt.subplots(3, 3, figsize = (22,6*3))\n",
    " \n",
    "iSrc = 5\n",
    "clim_j = [3e-13, 2e-9]\n",
    "clim_b = [1e-17, 3e-14]\n",
    "\n",
    "for i, itime in enumerate([1, 10, 22]):\n",
    "    \n",
    "    ax = axes[i, :]\n",
    "    location  = srcList[iSrc].loc\n",
    "    \n",
    "    S = np.kron(np.ones(3), sigma)\n",
    "    j = Utils.sdiag(S) * mesh.aveE2CCV * fields[srcList[iSrc], 'e', itime]\n",
    "    \n",
    "    b = mesh.aveF2CCV * fields[survey.srcList[iSrc], 'b', itime]\n",
    "\n",
    "    dat1 = mesh.plotSlice(\n",
    "        j, normal='Z', ind=int(indz), vType='CCv', view='vec', ax=ax[0], \n",
    "        range_x=xlim, range_y=ylim, \n",
    "        pcolorOpts={'norm':LogNorm(), 'cmap':'magma'},\n",
    "        streamOpts={'arrowsize':2, 'color':'k'},\n",
    "        clim=clim_j, stream_threshold = 1e-12 if clim is not None else None\n",
    "    )\n",
    "    dat2 = mesh.plotSlice(\n",
    "        j, normal='X', ind=int(indx), vType='CCv', view='vec', ax=ax[1], \n",
    "        range_x=xlim, range_y=zlim,\n",
    "        pcolorOpts={'norm':LogNorm(), 'cmap':'magma'}, \n",
    "        streamOpts={'arrowsize':2, 'color':'k'},\n",
    "        clim=clim_j, stream_threshold = 1e-12 if clim is not None else None\n",
    "    )\n",
    "    \n",
    "    dat3 = mesh.plotSlice(\n",
    "        b, normal='Y', ind=int(indy), vType='CCv', view='vec', ax=ax[2],\n",
    "        range_x=xlim, range_y=xlim,\n",
    "        pcolorOpts={'norm':LogNorm(), 'cmap':'magma'},\n",
    "        streamOpts={'arrowsize':2, 'color':'k'},\n",
    "        clim=clim_b, stream_threshold = clim_b[0] if clim is not None else None\n",
    "    )\n",
    "    \n",
    "    ax[0].plot(location[0], location[1], 'go', ms=20)\n",
    "    ax[0].text(-600, 550, \"Time: {:1.2f} ms\".format(prb.times[itime]*1e3), color='w', fontsize=20)\n",
    "    cb = plt.colorbar(dat1[0], orientation=\"horizontal\", ax = ax[1])\n",
    "    cb.set_label(\"Current density (A/m$^2$)\")\n",
    "    \n",
    "    cb2 = plt.colorbar(dat3[0], ax=ax[2])\n",
    "    cb2.set_label(\"Magnetic flux density (T)\")\n",
    "    ax[0].set_aspect(1)\n",
    "    ax[1].set_aspect(1)\n",
    "    ax[2].set_aspect(1)\n",
    "    \n",
    "    \n",
    "    if itime == 1: \n",
    "        ax[0].set_title(\"Current density, Z={:1.0f}m\".format(mesh.vectorCCz[indz]))\n",
    "        ax[1].set_title(\"Current density, X={:1.0f}m\".format(mesh.vectorCCx[indx]))\n",
    "        ax[2].set_title(\"Magnetic flux, Y=0m\")\n",
    "    else:\n",
    "        ax[0].set_title(\"\")\n",
    "        ax[1].set_title(\"\")\n",
    "        ax[2].set_title(\"\")\n",
    "\n",
    "plt.tight_layout()\n",
    "plt.show()"
   ]
  },
  {
   "cell_type": "code",
   "execution_count": null,
   "metadata": {},
   "outputs": [],
   "source": []
  }
 ],
 "metadata": {
  "kernelspec": {
   "display_name": "Python 3",
   "language": "python",
   "name": "python3"
  },
  "language_info": {
   "codemirror_mode": {
    "name": "ipython",
    "version": 3
   },
   "file_extension": ".py",
   "mimetype": "text/x-python",
   "name": "python",
   "nbconvert_exporter": "python",
   "pygments_lexer": "ipython3",
   "version": "3.6.4"
  }
 },
 "nbformat": 4,
 "nbformat_minor": 2
}
